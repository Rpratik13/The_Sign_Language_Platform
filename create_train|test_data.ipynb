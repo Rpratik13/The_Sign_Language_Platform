{
 "cells": [
  {
   "cell_type": "code",
   "execution_count": 1,
   "metadata": {},
   "outputs": [],
   "source": [
    "def create_label(image_name):\n",
    "    word_label = image_name[0]\n",
    "    label = [0] * NUM_LETTERS\n",
    "    label[label_list.index(word_label)] = 1\n",
    "    ans = np.array(label)\n",
    "    return ans\n",
    "\n",
    "def create_train_data():\n",
    "    training_data = []\n",
    "    for folder in tqdm(LETTERS):\n",
    "        path_folder = os.path.join(DATA_DIR, folder)\n",
    "        for img in list(os.listdir(path_folder)):\n",
    "            path = os.path.join(path_folder, img)\n",
    "            img_data = cv2.imread(path, cv2.IMREAD_GRAYSCALE)\n",
    "            img_data = cv2.resize(img_data, (IMG_SIZE, IMG_SIZE))\n",
    "            training_data.append([np.array(img_data), create_label(img)])\n",
    "        \n",
    "    shuffle(training_data)\n",
    "    np.save(DATA_DIR + 'train_data.npy', training_data)\n",
    "    return training_data\n",
    "\n",
    "def create_test_data():\n",
    "    testing_data = []\n",
    "    for img in tqdm(os.listdir(TEST_DIR)):\n",
    "        path = os.path.join(TEST_DIR, img)\n",
    "        img_data = cv2.imread(path, cv2.IMREAD_GRAYSCALE)\n",
    "        img_data = cv2.resize(img_data, (IMG_SIZE, IMG_SIZE))\n",
    "        testing_data.append([np.array(img_data)])\n",
    "    \n",
    "    np.save(DATA_DIR + 'test_data.npy', testing_data)\n",
    "    return testing_data"
   ]
  }
 ],
 "metadata": {
  "kernelspec": {
   "display_name": "Python 3",
   "language": "python",
   "name": "python3"
  },
  "language_info": {
   "codemirror_mode": {
    "name": "ipython",
    "version": 3
   },
   "file_extension": ".py",
   "mimetype": "text/x-python",
   "name": "python",
   "nbconvert_exporter": "python",
   "pygments_lexer": "ipython3",
   "version": "3.6.7"
  }
 },
 "nbformat": 4,
 "nbformat_minor": 2
}
