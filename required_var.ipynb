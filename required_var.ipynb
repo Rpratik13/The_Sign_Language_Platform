{
 "cells": [
  {
   "cell_type": "code",
   "execution_count": 8,
   "metadata": {},
   "outputs": [],
   "source": [
    "import os\n",
    "import cv2\n",
    "import numpy as np\n",
    "from tqdm import tqdm\n",
    "from keras.layers import *\n",
    "from random import shuffle\n",
    "from keras.optimizers import *\n",
    "import matplotlib.pyplot as plt\n",
    "from keras.models import Sequential, load_model\n",
    "\n",
    "\n",
    "IMG_SIZE    = 64\n",
    "NUM_LETTERS = 3\n",
    "MODELED_DATA = '/home/pratik/Desktop/Coding/The_Sign_Language_Platform/dataset/hand.h5'\n",
    "DATA_DIR   = '/home/pratik/Desktop/Coding/The_Sign_Language_Platform/dataset/'\n",
    "TEST_DIR    = '/home/pratik/Desktop/Coding/The_Sign_Language_Platform/test_images/'\n",
    "label_list  = ['A', 'B', 'C', 'D', 'E', 'F', 'G', 'H', 'I', 'J',\n",
    "              'K', 'L', 'M', 'N', 'O', 'P', 'Q', 'R', 'S', 'T',\n",
    "              'U', 'V', 'W', 'X', 'Y', 'Z', 'd', 's']\n",
    "LETTERS = label_list[:NUM_LETTERS]"
   ]
  }
 ],
 "metadata": {
  "kernelspec": {
   "display_name": "Python 3",
   "language": "python",
   "name": "python3"
  },
  "language_info": {
   "codemirror_mode": {
    "name": "ipython",
    "version": 3
   },
   "file_extension": ".py",
   "mimetype": "text/x-python",
   "name": "python",
   "nbconvert_exporter": "python",
   "pygments_lexer": "ipython3",
   "version": "3.6.7"
  }
 },
 "nbformat": 4,
 "nbformat_minor": 2
}
